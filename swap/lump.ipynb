import numpy as np
import pandas as pd
from pprint import pprint


# ca jkso; open jukit
# <leader><space>; send line to output
# <CR>; exec cell, stay
# <CR>j; exec cell, move down
# <CR>k; exec all cells to current
# <C-b>: split new cell below
# <leader>cs; split curr cell
# <leader>j; move to cell below
# <leader>k; move to cell above

;

#|%%--%%| <lhxMTC6lmw|T3nbgYegtX>

_flr_area = 1660.72

_mats = [
    {
        'id': 'itm1',
        'conductivity': 2.31,
        'density': 2322.0,
        'specific_heat': 832.0,
        'thickness': 0.34,
        'hc': 0.89; #0.47,
        'a': _flr_area,
    }
];

#|%%--%%| <T3nbgYegtX|y4bPsPRIPp>

# Clean HB json
mats = [{k:np.array([v]) for k, v in m.items()}
        for m in _mats]

_cols = {
    'id': 'id',
    'conductivity': 'k',
    'density': 'rho',
    'specific_heat': 'Cp',
    'thickness': 'Lc',
}
df = (pd.DataFrame(mats)
      .rename(columns=_cols))

df.T


#|%%--%%| <y4bPsPRIPp|VKGh4svY7t>

# Calc intermediate values
for i in range(0,4):
    df.loc[i, :] = df.loc[0, :].copy()
    df.loc[i, 'rho'] = 700.0
    df.loc[i, 'Lc'] = 0.34 + (0.085 * (i + 1))

#|%%--%%| <VKGh4svY7t|xXouNa9Z6L>


omega = 1.0 / 3600.0 # (6.0 * 3600.0); 
df['v'] = df['a'] * df['Lc']
df['U'] = df['k'] / df['Lc']
df['xi'] = (df.Lc * df.rho * df.Cp * omega) / df.hc
df['eta'] = (df.Lc * df.rho * df.Cp * omega) / df.U
df['bi'] = df.hc / df.U

cols = 'Lc xi eta bi'.split(' ')

df[cols]



#|%%--%%| <xXouNa9Z6L|HFRfxgEAse>



